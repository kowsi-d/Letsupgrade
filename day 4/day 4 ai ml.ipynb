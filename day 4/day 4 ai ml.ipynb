{
 "cells": [
  {
   "cell_type": "markdown",
   "metadata": {},
   "source": [
    "# Question 1 :Research on whether addition, subtraction, multiplication, division, floor division and modulo\n",
    "  operations be performed on complex numbers. Based on your study, implement a Python\n",
    "  program to demonstrate these operations\n",
    "# frist want to creat a complex numbers  which is created from the two real numbers.\n",
    "# Addition of complex numbers, have to add two complex numbers.\n",
    "# Subtraction of complex numbers, have to subtract two complex numbers.\n",
    "# Division of complex numbers, have to divi two complex numbers.\n",
    "# Floor Division of complex numbers, if a complex number is (//) anythig the values will be error\n",
    "# modulo Division of complex numbers, if a complex number is(%) anthing the values will be error"
   ]
  },
  {
   "cell_type": "code",
   "execution_count": null,
   "metadata": {},
   "outputs": [],
   "source": [
    "#for an example for add,sub,multiple,divi the complex numbers\n",
    "print(\"Addition of complex numbers : \",(41+3j)+(33-7j))\n",
    "print(\"Subtraction of complex numbers : \",(3+3j)-(2-7j))\n",
    "print(\"Multiplication of complex numbers : \",(4+3j)*(4-7j))\n",
    "print(\"Division of complex numbers : \",(4+3j)/(3-7j))"
   ]
  },
  {
   "cell_type": "markdown",
   "metadata": {},
   "source": [
    "# Question 2:Research on range() functions and its parameters. Create a markdown cell and write in your own\n",
    "words (no copy-paste from google please) what you understand about it. Implement a small\n",
    "program of your choice on the same.\n",
    "\n",
    "\n",
    "# range() function has three arguments.\n",
    "# range(start,stop, step)\n",
    "# To start a argument is a starting number of the sequence form lower limit. If starting is not specified, by default it start with 0.\n",
    "# To stop argument is an upper limit of givien number which means generate numbers up to the givien number, The range() doesn't include in this number result.\n",
    "# The Step is a difference between each number in the result.\n"
   ]
  },
  {
   "cell_type": "code",
   "execution_count": null,
   "metadata": {},
   "outputs": [],
   "source": [
    "#Question 3: Consider two numbers. Perform their subtraction and if the result of subtraction is greater than\n",
    "25, print their multiplication result else print their division result.\n",
    "\n",
    "\n",
    "num1 = int(input(\"Enter First Number: \"))\n",
    "num2 = int(input(\"Enter Second Number: \"))\n",
    "ch=num1-num2\n",
    "result = 0\n",
    "if ch > 25:\n",
    "    print(result = num1 * num2)\n",
    "else :\n",
    "    print(result = num1 / num2) \n",
    "    \n",
    "    "
   ]
  },
  {
   "cell_type": "code",
   "execution_count": null,
   "metadata": {},
   "outputs": [],
   "source": [
    "#question 4:  Consider a list of 10 elements of integer values. If the number in the list is divisible by 2, print the\n",
    "#result as \"square of that number minus 2\".\n",
    "\n",
    "num = [1,2,3,4,5,6,7,8,9,10]\n",
    "if number((num % 2) == 0):\n",
    "print(number**-2)"
   ]
  },
  {
   "cell_type": "code",
   "execution_count": null,
   "metadata": {},
   "outputs": [],
   "source": [
    "#queestion 5: Consider a list of 10 elements. Print all the elements in the list which are greater than 7 when that\n",
    "#number is divided 2.\n",
    "\n",
    "li = [11,22,32,44,55,66,77,87,99,100]\n",
    "if number((num % 2) == 0):\n",
    "print(all(num >= 7 for num in li))"
   ]
  },
  {
   "cell_type": "code",
   "execution_count": null,
   "metadata": {},
   "outputs": [],
   "source": []
  }
 ],
 "metadata": {
  "kernelspec": {
   "display_name": "Python 3",
   "language": "python",
   "name": "python3"
  },
  "language_info": {
   "codemirror_mode": {
    "name": "ipython",
    "version": 3
   },
   "file_extension": ".py",
   "mimetype": "text/x-python",
   "name": "python",
   "nbconvert_exporter": "python",
   "pygments_lexer": "ipython3",
   "version": "3.7.6"
  }
 },
 "nbformat": 4,
 "nbformat_minor": 4
}
